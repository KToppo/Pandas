{
 "cells": [
  {
   "cell_type": "markdown",
   "id": "585dccce-4a62-4445-b18c-ebfc5a0d3689",
   "metadata": {},
   "source": [
    "# Importing Libraries, Dependencies & Downloading Dataset"
   ]
  },
  {
   "cell_type": "code",
   "execution_count": 1,
   "id": "dfeccabd-8f4f-4010-9480-7b791d7f623b",
   "metadata": {},
   "outputs": [],
   "source": [
    "from kaggle_handler import handler\n",
    "import pandas as pd\n",
    "import numpy as np\n",
    "import os"
   ]
  },
  {
   "cell_type": "code",
   "execution_count": 2,
   "id": "cc6b7cf2-bcb8-418e-8944-7d6fd221dfd3",
   "metadata": {},
   "outputs": [
    {
     "name": "stdout",
     "output_type": "stream",
     "text": [
      "Directory 'Assets' already exists.\n"
     ]
    }
   ],
   "source": [
    "# downloading Dataset\n",
    "handler(\"rishikeshkonapure/zomato\")"
   ]
  },
  {
   "cell_type": "code",
   "execution_count": 3,
   "id": "d7a6bd60-6bbe-4cb4-a624-165d2d70e393",
   "metadata": {},
   "outputs": [
    {
     "data": {
      "text/plain": [
       "['zomato.csv']"
      ]
     },
     "execution_count": 3,
     "metadata": {},
     "output_type": "execute_result"
    }
   ],
   "source": [
    "os.listdir(\"Assets\")"
   ]
  },
  {
   "cell_type": "markdown",
   "id": "c5a6d5b3-1ced-4dde-860a-5931f0b08cd4",
   "metadata": {},
   "source": [
    "# Analysing tha over-all dataset and cleaning it"
   ]
  },
  {
   "cell_type": "code",
   "execution_count": 4,
   "id": "75a3c78c-8a89-4afd-ba53-bb76154b10be",
   "metadata": {},
   "outputs": [],
   "source": [
    "df = pd.read_csv(\"Assets/zomato.csv\")\n",
    "df = df.drop_duplicates()"
   ]
  },
  {
   "cell_type": "code",
   "execution_count": 5,
   "id": "87af50a8-1226-4fd1-a549-d521382bd66e",
   "metadata": {},
   "outputs": [
    {
     "data": {
      "text/plain": [
       "(51717, 17)"
      ]
     },
     "execution_count": 5,
     "metadata": {},
     "output_type": "execute_result"
    }
   ],
   "source": [
    "df.shape"
   ]
  },
  {
   "cell_type": "code",
   "execution_count": 6,
   "id": "d1e304d6-0d7f-4fbe-a1c3-fabc9483de92",
   "metadata": {
    "scrolled": true
   },
   "outputs": [
    {
     "data": {
      "text/plain": [
       "Index(['url', 'address', 'name', 'online_order', 'book_table', 'rate', 'votes',\n",
       "       'phone', 'location', 'rest_type', 'dish_liked', 'cuisines',\n",
       "       'approx_cost(for two people)', 'reviews_list', 'menu_item',\n",
       "       'listed_in(type)', 'listed_in(city)'],\n",
       "      dtype='object')"
      ]
     },
     "execution_count": 6,
     "metadata": {},
     "output_type": "execute_result"
    }
   ],
   "source": [
    "df.columns"
   ]
  },
  {
   "cell_type": "markdown",
   "id": "1856e391-de5b-4889-a5f5-b4e8958b8818",
   "metadata": {
    "jp-MarkdownHeadingCollapsed": true
   },
   "source": [
    "## Changing Columns name"
   ]
  },
  {
   "cell_type": "code",
   "execution_count": 7,
   "id": "907c7e40-fe35-4102-817c-a458e8a2af86",
   "metadata": {},
   "outputs": [],
   "source": [
    "df.rename(columns={'rate':\"rating\", 'votes':\"rating_count\",\n",
    "       'dish_liked':\"specialty\",\n",
    "       'approx_cost(for two people)':\"approx_cost\", 'reviews_list':\"reviews\", 'menu_item':\"menu\",\n",
    "       'listed_in(type)':\"type\", 'listed_in(city)':\"city\"}, inplace=True)"
   ]
  },
  {
   "cell_type": "code",
   "execution_count": 8,
   "id": "4c51f63a-41db-48fa-8078-443dfcd25b13",
   "metadata": {
    "scrolled": true
   },
   "outputs": [
    {
     "data": {
      "text/plain": [
       "Index(['url', 'address', 'name', 'online_order', 'book_table', 'rating',\n",
       "       'rating_count', 'phone', 'location', 'rest_type', 'specialty',\n",
       "       'cuisines', 'approx_cost', 'reviews', 'menu', 'type', 'city'],\n",
       "      dtype='object')"
      ]
     },
     "execution_count": 8,
     "metadata": {},
     "output_type": "execute_result"
    }
   ],
   "source": [
    "df.columns"
   ]
  },
  {
   "cell_type": "markdown",
   "id": "58d42860-d6cb-43a5-88c0-75ce4420108d",
   "metadata": {
    "jp-MarkdownHeadingCollapsed": true
   },
   "source": [
    "## Checking and changing datatype and total null/empty-cell count"
   ]
  },
  {
   "cell_type": "code",
   "execution_count": 9,
   "id": "9d0bc848-0210-4498-93e5-9a5514d1c4d0",
   "metadata": {
    "scrolled": true
   },
   "outputs": [
    {
     "name": "stdout",
     "output_type": "stream",
     "text": [
      "<class 'pandas.core.frame.DataFrame'>\n",
      "RangeIndex: 51717 entries, 0 to 51716\n",
      "Data columns (total 17 columns):\n",
      " #   Column        Non-Null Count  Dtype \n",
      "---  ------        --------------  ----- \n",
      " 0   url           51717 non-null  object\n",
      " 1   address       51717 non-null  object\n",
      " 2   name          51717 non-null  object\n",
      " 3   online_order  51717 non-null  object\n",
      " 4   book_table    51717 non-null  object\n",
      " 5   rating        43942 non-null  object\n",
      " 6   rating_count  51717 non-null  int64 \n",
      " 7   phone         50509 non-null  object\n",
      " 8   location      51696 non-null  object\n",
      " 9   rest_type     51490 non-null  object\n",
      " 10  specialty     23639 non-null  object\n",
      " 11  cuisines      51672 non-null  object\n",
      " 12  approx_cost   51371 non-null  object\n",
      " 13  reviews       51717 non-null  object\n",
      " 14  menu          51717 non-null  object\n",
      " 15  type          51717 non-null  object\n",
      " 16  city          51717 non-null  object\n",
      "dtypes: int64(1), object(16)\n",
      "memory usage: 6.7+ MB\n"
     ]
    }
   ],
   "source": [
    "df.info()"
   ]
  },
  {
   "cell_type": "code",
   "execution_count": 10,
   "id": "b877db27-52cb-465c-963b-59703b91869b",
   "metadata": {
    "scrolled": true
   },
   "outputs": [
    {
     "name": "stdout",
     "output_type": "stream",
     "text": [
      "rating: 7775\n",
      "phone: 1208\n",
      "location: 21\n",
      "rest_type: 227\n",
      "specialty: 28078\n",
      "cuisines: 45\n",
      "approx_cost: 346\n"
     ]
    }
   ],
   "source": [
    "# rating,phone,location,rest_type,dish_liked,cuisines,approx_cost(for two people) haves null values or empty values\n",
    "null_col = [\"rating\",\"phone\",\"location\",\"rest_type\",\"specialty\",\"cuisines\",\"approx_cost\"]\n",
    "for val in null_col:\n",
    "    print(f\"{val}: {df[val].isna().sum()}\")"
   ]
  },
  {
   "cell_type": "code",
   "execution_count": 11,
   "id": "8369262a-a551-4120-bfbc-97f34d6aaa6c",
   "metadata": {
    "scrolled": true
   },
   "outputs": [
    {
     "name": "stdout",
     "output_type": "stream",
     "text": [
      "<class 'pandas.core.frame.DataFrame'>\n",
      "RangeIndex: 51717 entries, 0 to 51716\n",
      "Data columns (total 17 columns):\n",
      " #   Column        Non-Null Count  Dtype \n",
      "---  ------        --------------  ----- \n",
      " 0   url           51717 non-null  object\n",
      " 1   address       51717 non-null  object\n",
      " 2   name          51717 non-null  object\n",
      " 3   online_order  51717 non-null  object\n",
      " 4   book_table    51717 non-null  object\n",
      " 5   rating        43942 non-null  object\n",
      " 6   rating_count  51717 non-null  int32 \n",
      " 7   phone         50509 non-null  object\n",
      " 8   location      51696 non-null  object\n",
      " 9   rest_type     51490 non-null  object\n",
      " 10  specialty     23639 non-null  object\n",
      " 11  cuisines      51672 non-null  object\n",
      " 12  approx_cost   51371 non-null  object\n",
      " 13  reviews       51717 non-null  object\n",
      " 14  menu          51717 non-null  object\n",
      " 15  type          51717 non-null  object\n",
      " 16  city          51717 non-null  object\n",
      "dtypes: int32(1), object(16)\n",
      "memory usage: 6.5+ MB\n"
     ]
    }
   ],
   "source": [
    "df.rating_count = df['rating_count'].astype(\"int32\")\n",
    "df.info()"
   ]
  },
  {
   "cell_type": "markdown",
   "id": "e2ed3678-2137-4ac4-ae1a-5541ecbf5296",
   "metadata": {},
   "source": [
    "## Dataset over-view"
   ]
  },
  {
   "cell_type": "code",
   "execution_count": 12,
   "id": "d8fd8235-b273-42e4-8913-0db01bf7f47c",
   "metadata": {
    "scrolled": true
   },
   "outputs": [
    {
     "data": {
      "text/html": [
       "<div>\n",
       "<style scoped>\n",
       "    .dataframe tbody tr th:only-of-type {\n",
       "        vertical-align: middle;\n",
       "    }\n",
       "\n",
       "    .dataframe tbody tr th {\n",
       "        vertical-align: top;\n",
       "    }\n",
       "\n",
       "    .dataframe thead th {\n",
       "        text-align: right;\n",
       "    }\n",
       "</style>\n",
       "<table border=\"1\" class=\"dataframe\">\n",
       "  <thead>\n",
       "    <tr style=\"text-align: right;\">\n",
       "      <th></th>\n",
       "      <th>url</th>\n",
       "      <th>address</th>\n",
       "      <th>name</th>\n",
       "      <th>online_order</th>\n",
       "      <th>book_table</th>\n",
       "      <th>rating</th>\n",
       "      <th>rating_count</th>\n",
       "      <th>phone</th>\n",
       "      <th>location</th>\n",
       "      <th>rest_type</th>\n",
       "      <th>specialty</th>\n",
       "      <th>cuisines</th>\n",
       "      <th>approx_cost</th>\n",
       "      <th>reviews</th>\n",
       "      <th>menu</th>\n",
       "      <th>type</th>\n",
       "      <th>city</th>\n",
       "    </tr>\n",
       "  </thead>\n",
       "  <tbody>\n",
       "    <tr>\n",
       "      <th>0</th>\n",
       "      <td>https://www.zomato.com/bangalore/jalsa-banasha...</td>\n",
       "      <td>942, 21st Main Road, 2nd Stage, Banashankari, ...</td>\n",
       "      <td>Jalsa</td>\n",
       "      <td>Yes</td>\n",
       "      <td>Yes</td>\n",
       "      <td>4.1/5</td>\n",
       "      <td>775</td>\n",
       "      <td>080 42297555\\r\\n+91 9743772233</td>\n",
       "      <td>Banashankari</td>\n",
       "      <td>Casual Dining</td>\n",
       "      <td>Pasta, Lunch Buffet, Masala Papad, Paneer Laja...</td>\n",
       "      <td>North Indian, Mughlai, Chinese</td>\n",
       "      <td>800</td>\n",
       "      <td>[('Rated 4.0', 'RATED\\n  A beautiful place to ...</td>\n",
       "      <td>[]</td>\n",
       "      <td>Buffet</td>\n",
       "      <td>Banashankari</td>\n",
       "    </tr>\n",
       "    <tr>\n",
       "      <th>1</th>\n",
       "      <td>https://www.zomato.com/bangalore/spice-elephan...</td>\n",
       "      <td>2nd Floor, 80 Feet Road, Near Big Bazaar, 6th ...</td>\n",
       "      <td>Spice Elephant</td>\n",
       "      <td>Yes</td>\n",
       "      <td>No</td>\n",
       "      <td>4.1/5</td>\n",
       "      <td>787</td>\n",
       "      <td>080 41714161</td>\n",
       "      <td>Banashankari</td>\n",
       "      <td>Casual Dining</td>\n",
       "      <td>Momos, Lunch Buffet, Chocolate Nirvana, Thai G...</td>\n",
       "      <td>Chinese, North Indian, Thai</td>\n",
       "      <td>800</td>\n",
       "      <td>[('Rated 4.0', 'RATED\\n  Had been here for din...</td>\n",
       "      <td>[]</td>\n",
       "      <td>Buffet</td>\n",
       "      <td>Banashankari</td>\n",
       "    </tr>\n",
       "    <tr>\n",
       "      <th>2</th>\n",
       "      <td>https://www.zomato.com/SanchurroBangalore?cont...</td>\n",
       "      <td>1112, Next to KIMS Medical College, 17th Cross...</td>\n",
       "      <td>San Churro Cafe</td>\n",
       "      <td>Yes</td>\n",
       "      <td>No</td>\n",
       "      <td>3.8/5</td>\n",
       "      <td>918</td>\n",
       "      <td>+91 9663487993</td>\n",
       "      <td>Banashankari</td>\n",
       "      <td>Cafe, Casual Dining</td>\n",
       "      <td>Churros, Cannelloni, Minestrone Soup, Hot Choc...</td>\n",
       "      <td>Cafe, Mexican, Italian</td>\n",
       "      <td>800</td>\n",
       "      <td>[('Rated 3.0', \"RATED\\n  Ambience is not that ...</td>\n",
       "      <td>[]</td>\n",
       "      <td>Buffet</td>\n",
       "      <td>Banashankari</td>\n",
       "    </tr>\n",
       "  </tbody>\n",
       "</table>\n",
       "</div>"
      ],
      "text/plain": [
       "                                                 url  \\\n",
       "0  https://www.zomato.com/bangalore/jalsa-banasha...   \n",
       "1  https://www.zomato.com/bangalore/spice-elephan...   \n",
       "2  https://www.zomato.com/SanchurroBangalore?cont...   \n",
       "\n",
       "                                             address             name  \\\n",
       "0  942, 21st Main Road, 2nd Stage, Banashankari, ...            Jalsa   \n",
       "1  2nd Floor, 80 Feet Road, Near Big Bazaar, 6th ...   Spice Elephant   \n",
       "2  1112, Next to KIMS Medical College, 17th Cross...  San Churro Cafe   \n",
       "\n",
       "  online_order book_table rating  rating_count  \\\n",
       "0          Yes        Yes  4.1/5           775   \n",
       "1          Yes         No  4.1/5           787   \n",
       "2          Yes         No  3.8/5           918   \n",
       "\n",
       "                            phone      location            rest_type  \\\n",
       "0  080 42297555\\r\\n+91 9743772233  Banashankari        Casual Dining   \n",
       "1                    080 41714161  Banashankari        Casual Dining   \n",
       "2                  +91 9663487993  Banashankari  Cafe, Casual Dining   \n",
       "\n",
       "                                           specialty  \\\n",
       "0  Pasta, Lunch Buffet, Masala Papad, Paneer Laja...   \n",
       "1  Momos, Lunch Buffet, Chocolate Nirvana, Thai G...   \n",
       "2  Churros, Cannelloni, Minestrone Soup, Hot Choc...   \n",
       "\n",
       "                         cuisines approx_cost  \\\n",
       "0  North Indian, Mughlai, Chinese         800   \n",
       "1     Chinese, North Indian, Thai         800   \n",
       "2          Cafe, Mexican, Italian         800   \n",
       "\n",
       "                                             reviews menu    type  \\\n",
       "0  [('Rated 4.0', 'RATED\\n  A beautiful place to ...   []  Buffet   \n",
       "1  [('Rated 4.0', 'RATED\\n  Had been here for din...   []  Buffet   \n",
       "2  [('Rated 3.0', \"RATED\\n  Ambience is not that ...   []  Buffet   \n",
       "\n",
       "           city  \n",
       "0  Banashankari  \n",
       "1  Banashankari  \n",
       "2  Banashankari  "
      ]
     },
     "execution_count": 12,
     "metadata": {},
     "output_type": "execute_result"
    }
   ],
   "source": [
    "df.head(3)"
   ]
  },
  {
   "cell_type": "markdown",
   "id": "471c01e1-1b36-47b0-b44b-7d07da49be0f",
   "metadata": {},
   "source": [
    "# Column wise operations (cleaning and modeling data)"
   ]
  },
  {
   "cell_type": "markdown",
   "id": "54d443b6-d1e9-4db4-baa9-b1a7b5f94fdc",
   "metadata": {},
   "source": [
    "## rating column\n",
    "* Irregularity in data handling\n",
    "* Null data handling with Average return"
   ]
  },
  {
   "cell_type": "code",
   "execution_count": 13,
   "id": "7d0ca8be-e287-4f04-812d-9a7cff16c3cc",
   "metadata": {},
   "outputs": [
    {
     "data": {
      "text/plain": [
       "array(['4.1/5', '3.8/5', '3.7/5', '3.6/5', '4.6/5', '4.0/5', '4.2/5',\n",
       "       '3.9/5', '3.1/5', '3.0/5', '3.2/5', '3.3/5', '2.8/5', '4.4/5',\n",
       "       '4.3/5', 'NEW', '2.9/5', '3.5/5', nan, '2.6/5', '3.8 /5', '3.4/5',\n",
       "       '4.5/5', '2.5/5', '2.7/5', '4.7/5', '2.4/5', '2.2/5', '2.3/5',\n",
       "       '3.4 /5', '-', '3.6 /5', '4.8/5', '3.9 /5', '4.2 /5', '4.0 /5',\n",
       "       '4.1 /5', '3.7 /5', '3.1 /5', '2.9 /5', '3.3 /5', '2.8 /5',\n",
       "       '3.5 /5', '2.7 /5', '2.5 /5', '3.2 /5', '2.6 /5', '4.5 /5',\n",
       "       '4.3 /5', '4.4 /5', '4.9/5', '2.1/5', '2.0/5', '1.8/5', '4.6 /5',\n",
       "       '4.9 /5', '3.0 /5', '4.8 /5', '2.3 /5', '4.7 /5', '2.4 /5',\n",
       "       '2.1 /5', '2.2 /5', '2.0 /5', '1.8 /5'], dtype=object)"
      ]
     },
     "execution_count": 13,
     "metadata": {},
     "output_type": "execute_result"
    }
   ],
   "source": [
    "df.rating.unique()"
   ]
  },
  {
   "cell_type": "code",
   "execution_count": 14,
   "id": "b6cca85e-b112-480a-ac43-96f4e8a0561d",
   "metadata": {},
   "outputs": [
    {
     "data": {
      "text/plain": [
       "array(['4.1', '3.8', '3.7', '3.6', '4.6', '4.0', '4.2', '3.9', '3.1',\n",
       "       '3.0', '3.2', '3.3', '2.8', '4.4', '4.3', nan, '2.9', '3.5', '2.6',\n",
       "       '3.4', '4.5', '2.5', '2.7', '4.7', '2.4', '2.2', '2.3', '4.8',\n",
       "       '4.9', '2.1', '2.0', '1.8'], dtype=object)"
      ]
     },
     "execution_count": 14,
     "metadata": {},
     "output_type": "execute_result"
    }
   ],
   "source": [
    "df['rating'] = df['rating'].replace({\" \":\"\",\"NEW\":np.nan,\"-\":np.nan,\"/5\":\"\"}, regex=True)\n",
    "df.rating.unique()"
   ]
  },
  {
   "cell_type": "code",
   "execution_count": 15,
   "id": "74906d49-631c-4cba-a588-1a985abbad2b",
   "metadata": {},
   "outputs": [],
   "source": [
    "def rating_to_float(data=df.rating):\n",
    "    df2 = data.str.split(pat=\"/\")\n",
    "    df2 = df2.apply(lambda x: float(x[0]) if type(x)==list else x)\n",
    "    df2 = df2.astype('float32')\n",
    "    return str(df2.mean().round(1))"
   ]
  },
  {
   "cell_type": "code",
   "execution_count": 16,
   "id": "415e2445-0972-47e7-af51-e92d06566b88",
   "metadata": {},
   "outputs": [
    {
     "data": {
      "text/plain": [
       "0        4.1\n",
       "1        4.1\n",
       "2        3.8\n",
       "3        3.7\n",
       "4        3.8\n",
       "        ... \n",
       "51712    3.6\n",
       "51713    3.7\n",
       "51714    3.7\n",
       "51715    4.3\n",
       "51716    3.4\n",
       "Name: rating, Length: 51717, dtype: float32"
      ]
     },
     "execution_count": 16,
     "metadata": {},
     "output_type": "execute_result"
    }
   ],
   "source": [
    "df['rating'].fillna(rating_to_float(), inplace=True)\n",
    "df['rating'] = df['rating'].astype('float32')\n",
    "df.rating"
   ]
  },
  {
   "cell_type": "markdown",
   "id": "4efe68ce-4e7b-453b-a178-2e5d71477405",
   "metadata": {},
   "source": [
    "## cuisines columns\n",
    "* Filling empty cells"
   ]
  },
  {
   "cell_type": "code",
   "execution_count": 17,
   "id": "73beb8a5-739a-47a2-a224-c4cb43ffc9ef",
   "metadata": {},
   "outputs": [
    {
     "data": {
      "text/plain": [
       "array(['North Indian, Mughlai, Chinese', 'Chinese, North Indian, Thai',\n",
       "       'Cafe, Mexican, Italian', ...,\n",
       "       'North Indian, Street Food, Biryani', 'Chinese, Mughlai',\n",
       "       'North Indian, Chinese, Arabian, Momos'], dtype=object)"
      ]
     },
     "execution_count": 17,
     "metadata": {},
     "output_type": "execute_result"
    }
   ],
   "source": [
    "df.cuisines.unique()"
   ]
  },
  {
   "cell_type": "code",
   "execution_count": 18,
   "id": "0098e7db-3441-4435-a256-608a29ae4443",
   "metadata": {},
   "outputs": [
    {
     "data": {
      "text/plain": [
       "array(['North Indian, Mughlai, Chinese', 'Chinese, North Indian, Thai',\n",
       "       'Cafe, Mexican, Italian', ...,\n",
       "       'North Indian, Street Food, Biryani', 'Chinese, Mughlai',\n",
       "       'North Indian, Chinese, Arabian, Momos'], dtype=object)"
      ]
     },
     "execution_count": 18,
     "metadata": {},
     "output_type": "execute_result"
    }
   ],
   "source": [
    "df.fillna({'cuisines':'Not Define'}, inplace=True)\n",
    "df.cuisines.unique()"
   ]
  },
  {
   "cell_type": "markdown",
   "id": "626578e2-7b26-462d-9557-afde641a6942",
   "metadata": {},
   "source": [
    "## approx_cost column\n",
    "* Changing data-type to less storage consumtion\n",
    "* claculating and replacing cost for 2 person =>> cost per person\n",
    "* Filling empty cell with most commun price charged"
   ]
  },
  {
   "cell_type": "code",
   "execution_count": 19,
   "id": "cba07413-4e0c-4b22-8c53-dbafe99f3d30",
   "metadata": {},
   "outputs": [
    {
     "data": {
      "text/plain": [
       "array([ 400. ,  150. ,  300. ,  350. ,  275. ,  250. ,  225. ,  325. ,\n",
       "        200. ,  450. ,  100. ,  375. ,   75. ,  425. ,   50. ,  600. ,\n",
       "        175. ,  125. ,  475. ,  500. ,  750. ,  650. ,   99.5,   40. ,\n",
       "        550. ,   80. ,  800. ,  115. ,   65. ,   25. ,   95. ,  850. ,\n",
       "        700. ,   90. ,  675. , 1100. , 1000. ,  900. ,  950. ,  165. ,\n",
       "       1250. , 1050. , 1500. , 1400. , 1700. ,   20. ,  625. , 1750. ,\n",
       "       2000. , 1200. , 1300. ,   60. ,  725. ,  234.5,   35. , 1600. ,\n",
       "         30. ,  280. ,  120. ,  180. , 3000. ,  525. , 1150. , 2050. ,\n",
       "       2500. , 1850. ,  825. , 1350. , 2250. ,   70. ], dtype=float32)"
      ]
     },
     "execution_count": 19,
     "metadata": {},
     "output_type": "execute_result"
    }
   ],
   "source": [
    "# converting approx cost per person\n",
    "df.approx_cost = df['approx_cost'].str.replace(\",\",\"\")\n",
    "df.approx_cost = df['approx_cost'].astype(\"float32\")\n",
    "df.approx_cost = df.approx_cost / 2\n",
    "df.fillna({'approx_cost':df.approx_cost.mode()[0]}, inplace=True)\n",
    "df.approx_cost = df['approx_cost'].astype(\"float32\")\n",
    "df.approx_cost.unique()"
   ]
  },
  {
   "cell_type": "markdown",
   "id": "26455758-5fe2-4836-9474-61acd79c6a2e",
   "metadata": {},
   "source": [
    "## phone column\n",
    "* data formating\n",
    "* Filling empty cell"
   ]
  },
  {
   "cell_type": "code",
   "execution_count": 20,
   "id": "4482692b-17f6-4422-b035-fc1e0f17fe3b",
   "metadata": {
    "scrolled": true
   },
   "outputs": [
    {
     "data": {
      "text/plain": [
       "0          080 42297555\\r\\n+91 9743772233\n",
       "1                            080 41714161\n",
       "2                          +91 9663487993\n",
       "3                          +91 9620009302\n",
       "4        +91 8026612447\\r\\n+91 9901210005\n",
       "                       ...               \n",
       "51712                        080 40301477\n",
       "51713                      +91 8197675843\n",
       "51714                                 NaN\n",
       "51715                        080 49652769\n",
       "51716                      +91 8071117272\n",
       "Name: phone, Length: 51717, dtype: object"
      ]
     },
     "execution_count": 20,
     "metadata": {},
     "output_type": "execute_result"
    }
   ],
   "source": [
    "df['phone']"
   ]
  },
  {
   "cell_type": "code",
   "execution_count": 21,
   "id": "16aa2466-f183-4da8-be58-56467d0a208f",
   "metadata": {
    "scrolled": true
   },
   "outputs": [
    {
     "data": {
      "text/plain": [
       "0          [080 42297555, +91 9743772233]\n",
       "1                          [080 41714161]\n",
       "2                        [+91 9663487993]\n",
       "3                        [+91 9620009302]\n",
       "4        [+91 8026612447, +91 9901210005]\n",
       "                       ...               \n",
       "51712                      [080 40301477]\n",
       "51713                    [+91 8197675843]\n",
       "51714                     No Contect Info\n",
       "51715                      [080 49652769]\n",
       "51716                    [+91 8071117272]\n",
       "Name: phone, Length: 51717, dtype: object"
      ]
     },
     "execution_count": 21,
     "metadata": {},
     "output_type": "execute_result"
    }
   ],
   "source": [
    "df.phone = df['phone'].str.split(pat=\"\\r\\n\")\n",
    "df.fillna({'phone':\"No Contect Info\"}, inplace=True)\n",
    "df['phone']"
   ]
  },
  {
   "cell_type": "code",
   "execution_count": 22,
   "id": "940b63ae-5d6f-4e62-8ba4-0ed9ea9d037d",
   "metadata": {},
   "outputs": [
    {
     "data": {
      "text/plain": [
       "Series([], Name: phone, dtype: object)"
      ]
     },
     "execution_count": 22,
     "metadata": {},
     "output_type": "execute_result"
    }
   ],
   "source": [
    "df['phone'][pd.isna(df['phone'])]"
   ]
  },
  {
   "cell_type": "markdown",
   "id": "dfabf91f-bb3a-45f1-b16d-5c60c443e840",
   "metadata": {},
   "source": [
    "## location, rest_type, specialty columns\n",
    "* looking for any error entry in the columns\n",
    "* Filling empty cells"
   ]
  },
  {
   "cell_type": "code",
   "execution_count": 23,
   "id": "52d508ff-2a4d-479a-9a04-d7e76d005647",
   "metadata": {},
   "outputs": [],
   "source": [
    "df.fillna({'location':\"Not Found\",\n",
    "         'rest_type':\"Not Define\",\n",
    "         'specialty':\"Not Mentioned\"}, inplace=True)"
   ]
  },
  {
   "cell_type": "code",
   "execution_count": 24,
   "id": "f4b36048-297b-4438-9fe4-8d4e71666594",
   "metadata": {
    "scrolled": true
   },
   "outputs": [
    {
     "data": {
      "text/plain": [
       "array(['Banashankari', 'Basavanagudi', 'Mysore Road', 'Jayanagar',\n",
       "       'Kumaraswamy Layout', 'Rajarajeshwari Nagar', 'Vijay Nagar',\n",
       "       'Uttarahalli', 'JP Nagar', 'South Bangalore', 'City Market',\n",
       "       'Nagarbhavi', 'Bannerghatta Road', 'BTM', 'Kanakapura Road',\n",
       "       'Bommanahalli', 'Not Found', 'CV Raman Nagar', 'Electronic City',\n",
       "       'HSR', 'Marathahalli', 'Sarjapur Road', 'Wilson Garden',\n",
       "       'Shanti Nagar', 'Koramangala 5th Block', 'Koramangala 8th Block',\n",
       "       'Richmond Road', 'Koramangala 7th Block', 'Jalahalli',\n",
       "       'Koramangala 4th Block', 'Bellandur', 'Whitefield',\n",
       "       'East Bangalore', 'Old Airport Road', 'Indiranagar',\n",
       "       'Koramangala 1st Block', 'Frazer Town', 'RT Nagar', 'MG Road',\n",
       "       'Brigade Road', 'Lavelle Road', 'Church Street', 'Ulsoor',\n",
       "       'Residency Road', 'Shivajinagar', 'Infantry Road',\n",
       "       'St. Marks Road', 'Cunningham Road', 'Race Course Road',\n",
       "       'Commercial Street', 'Vasanth Nagar', 'HBR Layout', 'Domlur',\n",
       "       'Ejipura', 'Jeevan Bhima Nagar', 'Old Madras Road', 'Malleshwaram',\n",
       "       'Seshadripuram', 'Kammanahalli', 'Koramangala 6th Block',\n",
       "       'Majestic', 'Langford Town', 'Central Bangalore', 'Sanjay Nagar',\n",
       "       'Brookefield', 'ITPL Main Road, Whitefield',\n",
       "       'Varthur Main Road, Whitefield', 'KR Puram',\n",
       "       'Koramangala 2nd Block', 'Koramangala 3rd Block', 'Koramangala',\n",
       "       'Hosur Road', 'Rajajinagar', 'Banaswadi', 'North Bangalore',\n",
       "       'Nagawara', 'Hennur', 'Kalyan Nagar', 'New BEL Road', 'Jakkur',\n",
       "       'Rammurthy Nagar', 'Thippasandra', 'Kaggadasapura', 'Hebbal',\n",
       "       'Kengeri', 'Sankey Road', 'Sadashiv Nagar', 'Basaveshwara Nagar',\n",
       "       'Yeshwantpur', 'West Bangalore', 'Magadi Road', 'Yelahanka',\n",
       "       'Sahakara Nagar', 'Peenya'], dtype=object)"
      ]
     },
     "execution_count": 24,
     "metadata": {},
     "output_type": "execute_result"
    }
   ],
   "source": [
    "df['location'].unique()"
   ]
  },
  {
   "cell_type": "code",
   "execution_count": 25,
   "id": "177f7019-8ebc-4822-b4fe-d3e91ebb0688",
   "metadata": {
    "scrolled": true
   },
   "outputs": [
    {
     "data": {
      "text/plain": [
       "array(['Casual Dining', 'Cafe, Casual Dining', 'Quick Bites',\n",
       "       'Casual Dining, Cafe', 'Cafe', 'Quick Bites, Cafe',\n",
       "       'Cafe, Quick Bites', 'Delivery', 'Mess', 'Dessert Parlor',\n",
       "       'Bakery, Dessert Parlor', 'Pub', 'Bakery', 'Takeaway, Delivery',\n",
       "       'Fine Dining', 'Beverage Shop', 'Sweet Shop', 'Bar',\n",
       "       'Beverage Shop, Quick Bites', 'Confectionery',\n",
       "       'Quick Bites, Beverage Shop', 'Dessert Parlor, Sweet Shop',\n",
       "       'Bakery, Quick Bites', 'Sweet Shop, Quick Bites', 'Kiosk',\n",
       "       'Food Truck', 'Quick Bites, Dessert Parlor',\n",
       "       'Beverage Shop, Dessert Parlor', 'Takeaway', 'Pub, Casual Dining',\n",
       "       'Casual Dining, Bar', 'Dessert Parlor, Beverage Shop',\n",
       "       'Quick Bites, Bakery', 'Dessert Parlor, Quick Bites',\n",
       "       'Microbrewery, Casual Dining', 'Lounge', 'Bar, Casual Dining',\n",
       "       'Food Court', 'Cafe, Bakery', 'Not Define', 'Dhaba',\n",
       "       'Quick Bites, Sweet Shop', 'Microbrewery',\n",
       "       'Food Court, Quick Bites', 'Pub, Bar', 'Casual Dining, Pub',\n",
       "       'Lounge, Bar', 'Food Court, Dessert Parlor',\n",
       "       'Casual Dining, Sweet Shop', 'Food Court, Casual Dining',\n",
       "       'Casual Dining, Microbrewery', 'Sweet Shop, Dessert Parlor',\n",
       "       'Bakery, Beverage Shop', 'Lounge, Casual Dining',\n",
       "       'Cafe, Food Court', 'Beverage Shop, Cafe', 'Cafe, Dessert Parlor',\n",
       "       'Dessert Parlor, Cafe', 'Dessert Parlor, Bakery',\n",
       "       'Microbrewery, Pub', 'Bakery, Food Court', 'Club',\n",
       "       'Quick Bites, Food Court', 'Bakery, Cafe', 'Bar, Cafe',\n",
       "       'Pub, Cafe', 'Casual Dining, Irani Cafee', 'Fine Dining, Lounge',\n",
       "       'Bar, Quick Bites', 'Bakery, Kiosk', 'Pub, Microbrewery',\n",
       "       'Microbrewery, Lounge', 'Fine Dining, Microbrewery',\n",
       "       'Fine Dining, Bar', 'Mess, Quick Bites', 'Dessert Parlor, Kiosk',\n",
       "       'Bhojanalya', 'Casual Dining, Quick Bites', 'Pop Up', 'Cafe, Bar',\n",
       "       'Casual Dining, Lounge', 'Bakery, Sweet Shop', 'Microbrewery, Bar',\n",
       "       'Cafe, Lounge', 'Bar, Pub', 'Lounge, Cafe', 'Club, Casual Dining',\n",
       "       'Quick Bites, Mess', 'Quick Bites, Meat Shop',\n",
       "       'Quick Bites, Kiosk', 'Lounge, Microbrewery',\n",
       "       'Food Court, Beverage Shop', 'Dessert Parlor, Food Court',\n",
       "       'Bar, Lounge'], dtype=object)"
      ]
     },
     "execution_count": 25,
     "metadata": {},
     "output_type": "execute_result"
    }
   ],
   "source": [
    "df['rest_type'].unique()"
   ]
  },
  {
   "cell_type": "code",
   "execution_count": 26,
   "id": "7e7ed4ed-717a-409f-bf70-2abdf4f0bfea",
   "metadata": {},
   "outputs": [
    {
     "data": {
      "text/plain": [
       "array(['Pasta, Lunch Buffet, Masala Papad, Paneer Lajawab, Tomato Shorba, Dum Biryani, Sweet Corn Soup',\n",
       "       'Momos, Lunch Buffet, Chocolate Nirvana, Thai Green Curry, Paneer Tikka, Dum Biryani, Chicken Biryani',\n",
       "       'Churros, Cannelloni, Minestrone Soup, Hot Chocolate, Pink Sauce Pasta, Salsa, Veg Supreme Pizza',\n",
       "       ...,\n",
       "       'Noodles, Chicken Noodle, Momos, American Chopsuey, Salad, Manchow Soup, Manchurian',\n",
       "       'Chicken Quesadilla, Naan, Breakfast Buffet, Cheesecake, Cocktails, Lunch Buffet, Biryani',\n",
       "       'Biryani, Andhra Meal'], dtype=object)"
      ]
     },
     "execution_count": 26,
     "metadata": {},
     "output_type": "execute_result"
    }
   ],
   "source": [
    "df['specialty'].unique()"
   ]
  },
  {
   "cell_type": "markdown",
   "id": "290f173b-3c63-47ea-ad45-e7be8ebddd06",
   "metadata": {},
   "source": [
    "## reviews column\n",
    "* extrecting list data from string for batter handling in future"
   ]
  },
  {
   "cell_type": "code",
   "execution_count": 27,
   "id": "50be1132-7ef6-4c13-ba71-1fdb8c007512",
   "metadata": {
    "scrolled": true
   },
   "outputs": [
    {
     "data": {
      "text/plain": [
       "'[(\\'Rated 4.0\\', \\'RATED\\\\n  A beautiful place to dine in.The interiors take you back to the Mughal era. The lightings are just perfect.We went there on the occasion of Christmas and so they had only limited items available. But the taste and service was not compromised at all.The only complaint is that the breads could have been better.Would surely like to come here again.\\'), (\\'Rated 4.0\\', \\'RATED\\\\n  I was here for dinner with my family on a weekday. The restaurant was completely empty. Ambience is good with some good old hindi music. Seating arrangement are good too. We ordered masala papad, panner and baby corn starters, lemon and corrionder soup, butter roti, olive and chilli paratha. Food was fresh and good, service is good too. Good for family hangout.\\\\nCheers\\'), (\\'Rated 2.0\\', \\'RATED\\\\n  Its a restaurant near to Banashankari BDA. Me along with few of my office friends visited to have buffet but unfortunately they only provide veg buffet. On inquiring they said this place is mostly visited by vegetarians. Anyways we ordered ala carte items which took ages to come. Food was ok ok. Definitely not visiting anymore.\\'), (\\'Rated 4.0\\', \\'RATED\\\\n  We went here on a weekend and one of us had the buffet while two of us took Ala Carte. Firstly the ambience and service of this place is great! The buffet had a lot of items and the good was good. We had a Pumpkin Halwa intm the dessert which was amazing. Must try! The kulchas are great here. Cheers!\\'), (\\'Rated 5.0\\', \\'RATED\\\\n  The best thing about the place is itÃ\\x83\\\\x83Ã\\x82\\\\x83Ã\\x83\\\\x82Ã\\x82\\\\x82Ã\\x83\\\\x83Ã\\x82\\\\x82Ã\\x83\\\\x82Ã\\x82\\\\x92s ambiance. Second best thing was yummy ? food. We try buffet and buffet food was not disappointed us.\\\\nTest ?. ?? ?? ?? ?? ??\\\\nQuality ?. ??????????.\\\\nService: Staff was very professional and friendly.\\\\n\\\\nOverall experience was excellent.\\\\n\\\\nsubirmajumder85.wixsite.com\\'), (\\'Rated 5.0\\', \\'RATED\\\\n  Great food and pleasant ambience. Expensive but Coll place to chill and relax......\\\\n\\\\nService is really very very good and friendly staff...\\\\n\\\\nFood : 5/5\\\\nService : 5/5\\\\nAmbience :5/5\\\\nOverall :5/5\\'), (\\'Rated 4.0\\', \\'RATED\\\\n  Good ambience with tasty food.\\\\nCheese chilli paratha with Bhutta palak methi curry is a good combo.\\\\nLemon Chicken in the starters is a must try item.\\\\nEgg fried rice was also quite tasty.\\\\nIn the mocktails, recommend \"Alice in Junoon\". Do not miss it.\\'), (\\'Rated 4.0\\', \\'RATED\\\\n  You canÃ\\x83\\\\x83Ã\\x82\\\\x83Ã\\x83\\\\x82Ã\\x82\\\\x82Ã\\x83\\\\x83Ã\\x82\\\\x82Ã\\x83\\\\x82Ã\\x82\\\\x92t go wrong with Jalsa. Never been a fan of their buffet and thus always order alacarteÃ\\x83\\\\x83Ã\\x82\\\\x83Ã\\x83\\\\x82Ã\\x82\\\\x82Ã\\x83\\\\x83Ã\\x82\\\\x82Ã\\x83\\\\x82Ã\\x82\\\\x92. Service at times can be on the slower side but food is worth the wait.\\'), (\\'Rated 5.0\\', \\'RATED\\\\n  Overdelighted by the service and food provided at this place. A royal and ethnic atmosphere builds a strong essence of being in India and also the quality and taste of food is truly authentic. I would totally recommend to visit this place once.\\'), (\\'Rated 4.0\\', \\'RATED\\\\n  The place is nice and comfortable. Food wise all jalea outlets maintain a good standard. The soya chaap was a standout dish. Clearly one of trademark dish as per me and a must try.\\\\n\\\\nThe only concern is the parking. It very congested and limited to just 5cars. The basement parking is very steep and makes it cumbersome\\'), (\\'Rated 4.0\\', \\'RATED\\\\n  The place is nice and comfortable. Food wise all jalea outlets maintain a good standard. The soya chaap was a standout dish. Clearly one of trademark dish as per me and a must try.\\\\n\\\\nThe only concern is the parking. It very congested and limited to just 5cars. The basement parking is very steep and makes it cumbersome\\'), (\\'Rated 4.0\\', \\'RATED\\\\n  The place is nice and comfortable. Food wise all jalea outlets maintain a good standard. The soya chaap was a standout dish. Clearly one of trademark dish as per me and a must try.\\\\n\\\\nThe only concern is the parking. It very congested and limited to just 5cars. The basement parking is very steep and makes it cumbersome\\')]'"
      ]
     },
     "execution_count": 27,
     "metadata": {},
     "output_type": "execute_result"
    }
   ],
   "source": [
    "df['reviews'][0]"
   ]
  },
  {
   "cell_type": "code",
   "execution_count": 28,
   "id": "2bfb1550-be52-44bb-88f4-4b83ba2cce17",
   "metadata": {
    "scrolled": true
   },
   "outputs": [
    {
     "data": {
      "text/plain": [
       "[('Rated 4.0',\n",
       "  'RATED\\n  A beautiful place to dine in.The interiors take you back to the Mughal era. The lightings are just perfect.We went there on the occasion of Christmas and so they had only limited items available. But the taste and service was not compromised at all.The only complaint is that the breads could have been better.Would surely like to come here again.'),\n",
       " ('Rated 4.0',\n",
       "  'RATED\\n  I was here for dinner with my family on a weekday. The restaurant was completely empty. Ambience is good with some good old hindi music. Seating arrangement are good too. We ordered masala papad, panner and baby corn starters, lemon and corrionder soup, butter roti, olive and chilli paratha. Food was fresh and good, service is good too. Good for family hangout.\\nCheers'),\n",
       " ('Rated 2.0',\n",
       "  'RATED\\n  Its a restaurant near to Banashankari BDA. Me along with few of my office friends visited to have buffet but unfortunately they only provide veg buffet. On inquiring they said this place is mostly visited by vegetarians. Anyways we ordered ala carte items which took ages to come. Food was ok ok. Definitely not visiting anymore.'),\n",
       " ('Rated 4.0',\n",
       "  'RATED\\n  We went here on a weekend and one of us had the buffet while two of us took Ala Carte. Firstly the ambience and service of this place is great! The buffet had a lot of items and the good was good. We had a Pumpkin Halwa intm the dessert which was amazing. Must try! The kulchas are great here. Cheers!'),\n",
       " ('Rated 5.0',\n",
       "  'RATED\\n  The best thing about the place is itÃ\\x83\\x83Ã\\x82\\x83Ã\\x83\\x82Ã\\x82\\x82Ã\\x83\\x83Ã\\x82\\x82Ã\\x83\\x82Ã\\x82\\x92s ambiance. Second best thing was yummy ? food. We try buffet and buffet food was not disappointed us.\\nTest ?. ?? ?? ?? ?? ??\\nQuality ?. ??????????.\\nService: Staff was very professional and friendly.\\n\\nOverall experience was excellent.\\n\\nsubirmajumder85.wixsite.com'),\n",
       " ('Rated 5.0',\n",
       "  'RATED\\n  Great food and pleasant ambience. Expensive but Coll place to chill and relax......\\n\\nService is really very very good and friendly staff...\\n\\nFood : 5/5\\nService : 5/5\\nAmbience :5/5\\nOverall :5/5'),\n",
       " ('Rated 4.0',\n",
       "  'RATED\\n  Good ambience with tasty food.\\nCheese chilli paratha with Bhutta palak methi curry is a good combo.\\nLemon Chicken in the starters is a must try item.\\nEgg fried rice was also quite tasty.\\nIn the mocktails, recommend \"Alice in Junoon\". Do not miss it.'),\n",
       " ('Rated 4.0',\n",
       "  'RATED\\n  You canÃ\\x83\\x83Ã\\x82\\x83Ã\\x83\\x82Ã\\x82\\x82Ã\\x83\\x83Ã\\x82\\x82Ã\\x83\\x82Ã\\x82\\x92t go wrong with Jalsa. Never been a fan of their buffet and thus always order alacarteÃ\\x83\\x83Ã\\x82\\x83Ã\\x83\\x82Ã\\x82\\x82Ã\\x83\\x83Ã\\x82\\x82Ã\\x83\\x82Ã\\x82\\x92. Service at times can be on the slower side but food is worth the wait.'),\n",
       " ('Rated 5.0',\n",
       "  'RATED\\n  Overdelighted by the service and food provided at this place. A royal and ethnic atmosphere builds a strong essence of being in India and also the quality and taste of food is truly authentic. I would totally recommend to visit this place once.'),\n",
       " ('Rated 4.0',\n",
       "  'RATED\\n  The place is nice and comfortable. Food wise all jalea outlets maintain a good standard. The soya chaap was a standout dish. Clearly one of trademark dish as per me and a must try.\\n\\nThe only concern is the parking. It very congested and limited to just 5cars. The basement parking is very steep and makes it cumbersome'),\n",
       " ('Rated 4.0',\n",
       "  'RATED\\n  The place is nice and comfortable. Food wise all jalea outlets maintain a good standard. The soya chaap was a standout dish. Clearly one of trademark dish as per me and a must try.\\n\\nThe only concern is the parking. It very congested and limited to just 5cars. The basement parking is very steep and makes it cumbersome'),\n",
       " ('Rated 4.0',\n",
       "  'RATED\\n  The place is nice and comfortable. Food wise all jalea outlets maintain a good standard. The soya chaap was a standout dish. Clearly one of trademark dish as per me and a must try.\\n\\nThe only concern is the parking. It very congested and limited to just 5cars. The basement parking is very steep and makes it cumbersome')]"
      ]
     },
     "execution_count": 28,
     "metadata": {},
     "output_type": "execute_result"
    }
   ],
   "source": [
    "df['reviews'] = df['reviews'].apply(lambda x: x if pd.isna(x) else eval(x))\n",
    "df['reviews'][0]"
   ]
  },
  {
   "cell_type": "markdown",
   "id": "c2dfd44a-95be-4a9e-9ad9-b97dfba7fb76",
   "metadata": {},
   "source": [
    "## menu column\n",
    "* coverting empty list to proper null value"
   ]
  },
  {
   "cell_type": "code",
   "execution_count": 29,
   "id": "15d443fd-982f-4ee0-ab8d-62c01b4f1440",
   "metadata": {},
   "outputs": [
    {
     "data": {
      "text/plain": [
       "0        []\n",
       "1        []\n",
       "2        []\n",
       "3        []\n",
       "4        []\n",
       "         ..\n",
       "51712    []\n",
       "51713    []\n",
       "51714    []\n",
       "51715    []\n",
       "51716    []\n",
       "Name: menu, Length: 51717, dtype: object"
      ]
     },
     "execution_count": 29,
     "metadata": {},
     "output_type": "execute_result"
    }
   ],
   "source": [
    "df.menu"
   ]
  },
  {
   "cell_type": "code",
   "execution_count": 30,
   "id": "978a076e-748c-47fc-8f64-e0b054e11e67",
   "metadata": {},
   "outputs": [
    {
     "data": {
      "text/plain": [
       "Series([], Name: menu, dtype: object)"
      ]
     },
     "execution_count": 30,
     "metadata": {},
     "output_type": "execute_result"
    }
   ],
   "source": [
    "df['menu'][pd.isna(df['menu'])]"
   ]
  },
  {
   "cell_type": "code",
   "execution_count": 31,
   "id": "4d926b78-ca62-40a3-9754-21ea179d6506",
   "metadata": {},
   "outputs": [
    {
     "data": {
      "text/plain": [
       "str"
      ]
     },
     "execution_count": 31,
     "metadata": {},
     "output_type": "execute_result"
    }
   ],
   "source": [
    "type(df['menu'][0])"
   ]
  },
  {
   "cell_type": "code",
   "execution_count": 32,
   "id": "62f94757-ad56-418e-98db-c50e3dd3c290",
   "metadata": {},
   "outputs": [
    {
     "data": {
      "text/plain": [
       "0    No Menu\n",
       "1    No Menu\n",
       "2    No Menu\n",
       "3    No Menu\n",
       "4    No Menu\n",
       "Name: menu, dtype: object"
      ]
     },
     "execution_count": 32,
     "metadata": {},
     "output_type": "execute_result"
    }
   ],
   "source": [
    "df.menu = df['menu'].apply(lambda x: x if pd.isna(x) else 'No Menu' if eval(x) == [] else eval(x))\n",
    "df.menu.head(5)"
   ]
  },
  {
   "cell_type": "code",
   "execution_count": 33,
   "id": "be9b610a-4cbf-43c4-bc96-7e47c8ea1cb2",
   "metadata": {},
   "outputs": [
    {
     "data": {
      "text/plain": [
       "32       [Chocolate Fantasy (Pack Of 5), Pan Cake (Pack...\n",
       "34       [Chole Kulcha Meal, Upvas Aloo Paratha With Da...\n",
       "39       [Benne Dosa, Benne Masala Dosa, Benne Kali Dos...\n",
       "46       [3 Poori with Subji, Chole Bhature [2 Pieces],...\n",
       "47       [Veg Fried Rice, Egg Fried Rice, Chicken Roll,...\n",
       "                               ...                        \n",
       "51664    [Chicken Wings, Pepper Chicken, Beef Grilled O...\n",
       "51687    [Hangover, Smoking Hot Red Rhino Chilli Chicke...\n",
       "51688    [Dal Tadka, Dal Makhani, Paneer Tikka Masala, ...\n",
       "51693    [Chicken Manchow Soup, Chicken Lollipop, Dam D...\n",
       "51694    [Chilli Paneer Black Pepper China Box, Chilli ...\n",
       "Name: menu, Length: 12100, dtype: object"
      ]
     },
     "execution_count": 33,
     "metadata": {},
     "output_type": "execute_result"
    }
   ],
   "source": [
    "df['menu'][df['menu']!=\"No Menu\"]"
   ]
  },
  {
   "cell_type": "markdown",
   "id": "faec8949-ab8e-47ed-9839-46c551025683",
   "metadata": {},
   "source": [
    "## type, city columns\n",
    "* looking for any error entry in the columns"
   ]
  },
  {
   "cell_type": "code",
   "execution_count": 34,
   "id": "c8ec20b0-b60c-4dd8-a1ac-6dc47d23cc8f",
   "metadata": {},
   "outputs": [
    {
     "data": {
      "text/plain": [
       "array(['Buffet', 'Cafes', 'Delivery', 'Desserts', 'Dine-out',\n",
       "       'Drinks & nightlife', 'Pubs and bars'], dtype=object)"
      ]
     },
     "execution_count": 34,
     "metadata": {},
     "output_type": "execute_result"
    }
   ],
   "source": [
    "df['type'].unique()"
   ]
  },
  {
   "cell_type": "code",
   "execution_count": 35,
   "id": "4a1e1d2b-11bb-499c-af7b-819b5c4cd562",
   "metadata": {},
   "outputs": [
    {
     "data": {
      "text/plain": [
       "array(['Banashankari', 'Bannerghatta Road', 'Basavanagudi', 'Bellandur',\n",
       "       'Brigade Road', 'Brookefield', 'BTM', 'Church Street',\n",
       "       'Electronic City', 'Frazer Town', 'HSR', 'Indiranagar',\n",
       "       'Jayanagar', 'JP Nagar', 'Kalyan Nagar', 'Kammanahalli',\n",
       "       'Koramangala 4th Block', 'Koramangala 5th Block',\n",
       "       'Koramangala 6th Block', 'Koramangala 7th Block', 'Lavelle Road',\n",
       "       'Malleshwaram', 'Marathahalli', 'MG Road', 'New BEL Road',\n",
       "       'Old Airport Road', 'Rajajinagar', 'Residency Road',\n",
       "       'Sarjapur Road', 'Whitefield'], dtype=object)"
      ]
     },
     "execution_count": 35,
     "metadata": {},
     "output_type": "execute_result"
    }
   ],
   "source": [
    "df['city'].unique()"
   ]
  },
  {
   "cell_type": "markdown",
   "id": "8042b5a2-3cb7-4f17-ac1e-a27846553062",
   "metadata": {},
   "source": [
    "# Dataset after cleaning"
   ]
  },
  {
   "cell_type": "code",
   "execution_count": 36,
   "id": "024fb8d8-b577-495d-b9dd-9f8aeecbf2d4",
   "metadata": {},
   "outputs": [
    {
     "data": {
      "text/html": [
       "<div>\n",
       "<style scoped>\n",
       "    .dataframe tbody tr th:only-of-type {\n",
       "        vertical-align: middle;\n",
       "    }\n",
       "\n",
       "    .dataframe tbody tr th {\n",
       "        vertical-align: top;\n",
       "    }\n",
       "\n",
       "    .dataframe thead th {\n",
       "        text-align: right;\n",
       "    }\n",
       "</style>\n",
       "<table border=\"1\" class=\"dataframe\">\n",
       "  <thead>\n",
       "    <tr style=\"text-align: right;\">\n",
       "      <th></th>\n",
       "      <th>url</th>\n",
       "      <th>address</th>\n",
       "      <th>name</th>\n",
       "      <th>online_order</th>\n",
       "      <th>book_table</th>\n",
       "      <th>rating</th>\n",
       "      <th>rating_count</th>\n",
       "      <th>phone</th>\n",
       "      <th>location</th>\n",
       "      <th>rest_type</th>\n",
       "      <th>specialty</th>\n",
       "      <th>cuisines</th>\n",
       "      <th>approx_cost</th>\n",
       "      <th>reviews</th>\n",
       "      <th>menu</th>\n",
       "      <th>type</th>\n",
       "      <th>city</th>\n",
       "    </tr>\n",
       "  </thead>\n",
       "  <tbody>\n",
       "    <tr>\n",
       "      <th>0</th>\n",
       "      <td>https://www.zomato.com/bangalore/jalsa-banasha...</td>\n",
       "      <td>942, 21st Main Road, 2nd Stage, Banashankari, ...</td>\n",
       "      <td>Jalsa</td>\n",
       "      <td>Yes</td>\n",
       "      <td>Yes</td>\n",
       "      <td>4.1</td>\n",
       "      <td>775</td>\n",
       "      <td>[080 42297555, +91 9743772233]</td>\n",
       "      <td>Banashankari</td>\n",
       "      <td>Casual Dining</td>\n",
       "      <td>Pasta, Lunch Buffet, Masala Papad, Paneer Laja...</td>\n",
       "      <td>North Indian, Mughlai, Chinese</td>\n",
       "      <td>400.0</td>\n",
       "      <td>[(Rated 4.0, RATED\\n  A beautiful place to din...</td>\n",
       "      <td>No Menu</td>\n",
       "      <td>Buffet</td>\n",
       "      <td>Banashankari</td>\n",
       "    </tr>\n",
       "    <tr>\n",
       "      <th>1</th>\n",
       "      <td>https://www.zomato.com/bangalore/spice-elephan...</td>\n",
       "      <td>2nd Floor, 80 Feet Road, Near Big Bazaar, 6th ...</td>\n",
       "      <td>Spice Elephant</td>\n",
       "      <td>Yes</td>\n",
       "      <td>No</td>\n",
       "      <td>4.1</td>\n",
       "      <td>787</td>\n",
       "      <td>[080 41714161]</td>\n",
       "      <td>Banashankari</td>\n",
       "      <td>Casual Dining</td>\n",
       "      <td>Momos, Lunch Buffet, Chocolate Nirvana, Thai G...</td>\n",
       "      <td>Chinese, North Indian, Thai</td>\n",
       "      <td>400.0</td>\n",
       "      <td>[(Rated 4.0, RATED\\n  Had been here for dinner...</td>\n",
       "      <td>No Menu</td>\n",
       "      <td>Buffet</td>\n",
       "      <td>Banashankari</td>\n",
       "    </tr>\n",
       "    <tr>\n",
       "      <th>2</th>\n",
       "      <td>https://www.zomato.com/SanchurroBangalore?cont...</td>\n",
       "      <td>1112, Next to KIMS Medical College, 17th Cross...</td>\n",
       "      <td>San Churro Cafe</td>\n",
       "      <td>Yes</td>\n",
       "      <td>No</td>\n",
       "      <td>3.8</td>\n",
       "      <td>918</td>\n",
       "      <td>[+91 9663487993]</td>\n",
       "      <td>Banashankari</td>\n",
       "      <td>Cafe, Casual Dining</td>\n",
       "      <td>Churros, Cannelloni, Minestrone Soup, Hot Choc...</td>\n",
       "      <td>Cafe, Mexican, Italian</td>\n",
       "      <td>400.0</td>\n",
       "      <td>[(Rated 3.0, RATED\\n  Ambience is not that goo...</td>\n",
       "      <td>No Menu</td>\n",
       "      <td>Buffet</td>\n",
       "      <td>Banashankari</td>\n",
       "    </tr>\n",
       "  </tbody>\n",
       "</table>\n",
       "</div>"
      ],
      "text/plain": [
       "                                                 url  \\\n",
       "0  https://www.zomato.com/bangalore/jalsa-banasha...   \n",
       "1  https://www.zomato.com/bangalore/spice-elephan...   \n",
       "2  https://www.zomato.com/SanchurroBangalore?cont...   \n",
       "\n",
       "                                             address             name  \\\n",
       "0  942, 21st Main Road, 2nd Stage, Banashankari, ...            Jalsa   \n",
       "1  2nd Floor, 80 Feet Road, Near Big Bazaar, 6th ...   Spice Elephant   \n",
       "2  1112, Next to KIMS Medical College, 17th Cross...  San Churro Cafe   \n",
       "\n",
       "  online_order book_table  rating  rating_count  \\\n",
       "0          Yes        Yes     4.1           775   \n",
       "1          Yes         No     4.1           787   \n",
       "2          Yes         No     3.8           918   \n",
       "\n",
       "                            phone      location            rest_type  \\\n",
       "0  [080 42297555, +91 9743772233]  Banashankari        Casual Dining   \n",
       "1                  [080 41714161]  Banashankari        Casual Dining   \n",
       "2                [+91 9663487993]  Banashankari  Cafe, Casual Dining   \n",
       "\n",
       "                                           specialty  \\\n",
       "0  Pasta, Lunch Buffet, Masala Papad, Paneer Laja...   \n",
       "1  Momos, Lunch Buffet, Chocolate Nirvana, Thai G...   \n",
       "2  Churros, Cannelloni, Minestrone Soup, Hot Choc...   \n",
       "\n",
       "                         cuisines  approx_cost  \\\n",
       "0  North Indian, Mughlai, Chinese        400.0   \n",
       "1     Chinese, North Indian, Thai        400.0   \n",
       "2          Cafe, Mexican, Italian        400.0   \n",
       "\n",
       "                                             reviews     menu    type  \\\n",
       "0  [(Rated 4.0, RATED\\n  A beautiful place to din...  No Menu  Buffet   \n",
       "1  [(Rated 4.0, RATED\\n  Had been here for dinner...  No Menu  Buffet   \n",
       "2  [(Rated 3.0, RATED\\n  Ambience is not that goo...  No Menu  Buffet   \n",
       "\n",
       "           city  \n",
       "0  Banashankari  \n",
       "1  Banashankari  \n",
       "2  Banashankari  "
      ]
     },
     "execution_count": 36,
     "metadata": {},
     "output_type": "execute_result"
    }
   ],
   "source": [
    "df.head(3)"
   ]
  },
  {
   "cell_type": "markdown",
   "id": "244e326f-695d-4257-b767-975967b5dd5e",
   "metadata": {},
   "source": [
    "# Saving cleaned file"
   ]
  },
  {
   "cell_type": "code",
   "execution_count": 37,
   "id": "c170e31e-e036-4f1c-82fe-ce1655aba3a9",
   "metadata": {},
   "outputs": [
    {
     "name": "stdout",
     "output_type": "stream",
     "text": [
      "<class 'pandas.core.frame.DataFrame'>\n",
      "RangeIndex: 51717 entries, 0 to 51716\n",
      "Data columns (total 17 columns):\n",
      " #   Column        Non-Null Count  Dtype  \n",
      "---  ------        --------------  -----  \n",
      " 0   url           51717 non-null  object \n",
      " 1   address       51717 non-null  object \n",
      " 2   name          51717 non-null  object \n",
      " 3   online_order  51717 non-null  object \n",
      " 4   book_table    51717 non-null  object \n",
      " 5   rating        51717 non-null  float32\n",
      " 6   rating_count  51717 non-null  int32  \n",
      " 7   phone         51717 non-null  object \n",
      " 8   location      51717 non-null  object \n",
      " 9   rest_type     51717 non-null  object \n",
      " 10  specialty     51717 non-null  object \n",
      " 11  cuisines      51717 non-null  object \n",
      " 12  approx_cost   51717 non-null  float32\n",
      " 13  reviews       51717 non-null  object \n",
      " 14  menu          51717 non-null  object \n",
      " 15  type          51717 non-null  object \n",
      " 16  city          51717 non-null  object \n",
      "dtypes: float32(2), int32(1), object(14)\n",
      "memory usage: 6.1+ MB\n"
     ]
    }
   ],
   "source": [
    "df.info()"
   ]
  },
  {
   "cell_type": "code",
   "execution_count": 38,
   "id": "adfe92d3-2c26-4b7b-acc2-dcff5bc65f40",
   "metadata": {},
   "outputs": [],
   "source": [
    "df.to_csv(\"cleaned.csv\",index = False)"
   ]
  }
 ],
 "metadata": {
  "kernelspec": {
   "display_name": "Python 3 (ipykernel)",
   "language": "python",
   "name": "python3"
  },
  "language_info": {
   "codemirror_mode": {
    "name": "ipython",
    "version": 3
   },
   "file_extension": ".py",
   "mimetype": "text/x-python",
   "name": "python",
   "nbconvert_exporter": "python",
   "pygments_lexer": "ipython3",
   "version": "3.12.7"
  }
 },
 "nbformat": 4,
 "nbformat_minor": 5
}
