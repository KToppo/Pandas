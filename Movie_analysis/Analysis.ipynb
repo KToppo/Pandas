{
 "cells": [
  {
   "cell_type": "code",
   "execution_count": 2,
   "id": "53330adc-8454-4c13-87a3-8b5cfdcdd51e",
   "metadata": {
    "scrolled": true
   },
   "outputs": [
    {
     "name": "stdout",
     "output_type": "stream",
     "text": [
      "Collecting kagglehub\n",
      "  Using cached kagglehub-0.3.4-py3-none-any.whl.metadata (22 kB)\n",
      "Requirement already satisfied: packaging in /home/sptrop/Desktop/.desk/Jupyter/venv/lib/python3.12/site-packages (from kagglehub) (24.1)\n",
      "Requirement already satisfied: requests in /home/sptrop/Desktop/.desk/Jupyter/venv/lib/python3.12/site-packages (from kagglehub) (2.32.3)\n",
      "Requirement already satisfied: tqdm in /home/sptrop/Desktop/.desk/Jupyter/venv/lib/python3.12/site-packages (from kagglehub) (4.67.0)\n",
      "Requirement already satisfied: charset-normalizer<4,>=2 in /home/sptrop/Desktop/.desk/Jupyter/venv/lib/python3.12/site-packages (from requests->kagglehub) (3.4.0)\n",
      "Requirement already satisfied: idna<4,>=2.5 in /home/sptrop/Desktop/.desk/Jupyter/venv/lib/python3.12/site-packages (from requests->kagglehub) (3.10)\n",
      "Requirement already satisfied: urllib3<3,>=1.21.1 in /home/sptrop/Desktop/.desk/Jupyter/venv/lib/python3.12/site-packages (from requests->kagglehub) (2.2.3)\n",
      "Requirement already satisfied: certifi>=2017.4.17 in /home/sptrop/Desktop/.desk/Jupyter/venv/lib/python3.12/site-packages (from requests->kagglehub) (2024.8.30)\n",
      "Using cached kagglehub-0.3.4-py3-none-any.whl (43 kB)\n",
      "Installing collected packages: kagglehub\n",
      "Successfully installed kagglehub-0.3.4\n",
      "Requirement already satisfied: pandas in /home/sptrop/Desktop/.desk/Jupyter/venv/lib/python3.12/site-packages (2.2.3)\n",
      "Requirement already satisfied: numpy>=1.26.0 in /home/sptrop/Desktop/.desk/Jupyter/venv/lib/python3.12/site-packages (from pandas) (2.0.2)\n",
      "Requirement already satisfied: python-dateutil>=2.8.2 in /home/sptrop/Desktop/.desk/Jupyter/venv/lib/python3.12/site-packages (from pandas) (2.9.0.post0)\n",
      "Requirement already satisfied: pytz>=2020.1 in /home/sptrop/Desktop/.desk/Jupyter/venv/lib/python3.12/site-packages (from pandas) (2024.2)\n",
      "Requirement already satisfied: tzdata>=2022.7 in /home/sptrop/Desktop/.desk/Jupyter/venv/lib/python3.12/site-packages (from pandas) (2024.2)\n",
      "Requirement already satisfied: six>=1.5 in /home/sptrop/Desktop/.desk/Jupyter/venv/lib/python3.12/site-packages (from python-dateutil>=2.8.2->pandas) (1.16.0)\n"
     ]
    }
   ],
   "source": [
    "!pip install kagglehub\n",
    "!pip install pandas"
   ]
  },
  {
   "cell_type": "code",
   "execution_count": 3,
   "id": "fe103c21-838e-421c-9aa8-2576f9509bf3",
   "metadata": {},
   "outputs": [],
   "source": [
    "import pandas as pd\n",
    "import kagglehub\n",
    "import os"
   ]
  },
  {
   "cell_type": "code",
   "execution_count": 4,
   "id": "1d147893-ca68-4387-924f-e9c330498c9f",
   "metadata": {},
   "outputs": [
    {
     "name": "stdout",
     "output_type": "stream",
     "text": [
      "Directory 'Assets' already exists.\n"
     ]
    }
   ],
   "source": [
    "# Create the directory\n",
    "try:\n",
    "    os.mkdir(\"Assets\")\n",
    "    print(f\"Directory 'Assets' created successfully.\")\n",
    "except FileExistsError:\n",
    "    print(f\"Directory 'Assets' already exists.\")\n",
    "except PermissionError:\n",
    "    print(f\"Permission denied: Unable to create 'Assets'.\")\n",
    "except Exception as e:\n",
    "    print(f\"An error occurred: {e}\")"
   ]
  },
  {
   "cell_type": "code",
   "execution_count": 5,
   "id": "7434957a-0f2f-4ce7-8b27-b0d5012180ba",
   "metadata": {},
   "outputs": [],
   "source": [
    "# Download latest version Dataset from Kaggle and retriving required files to \"Assets\" folder\n",
    "path = kagglehub.dataset_download(\"ebiswas/imdb-review-dataset\")\n",
    "files = os.listdir(path=path)\n",
    "if os.listdir(path=\"Assets\") == []:\n",
    "    for file in files:\n",
    "        os.rename(f\"{path}/{file}\",f\"Assets/{file}\")\n",
    "        print(file, \"Moved to Assets folder\")\n",
    "del path, files"
   ]
  },
  {
   "cell_type": "code",
   "execution_count": 33,
   "id": "b410308d-e845-4b6f-b037-5668c1bab199",
   "metadata": {},
   "outputs": [
    {
     "name": "stdout",
     "output_type": "stream",
     "text": [
      "Index(['review_id', 'reviewer', 'movie', 'rating', 'review_summary',\n",
      "       'review_date', 'spoiler_tag', 'review_detail', 'helpful'],\n",
      "      dtype='object')\n",
      "(100000, 9)\n"
     ]
    }
   ],
   "source": [
    "# Reading the folders\n",
    "files = os.listdir(path=\"Assets\")\n",
    "df = pd.read_json(f\"Assets/{files[0]}\")\n",
    "\n",
    "print(df.columns)\n",
    "print(df.shape)"
   ]
  },
  {
   "cell_type": "code",
   "execution_count": 14,
   "id": "9c0b7c54-043e-42b9-93a3-43cb001fe0c6",
   "metadata": {},
   "outputs": [
    {
     "name": "stdout",
     "output_type": "stream",
     "text": [
      "Collecting and Reandig the Data\n"
     ]
    }
   ],
   "source": [
    "# Combineing data from all the data-set folders\n",
    "\n",
    "# df = pd.DataFrame(columns=['review_id', 'reviewer', 'movie', 'rating', 'review_summary', 'review_date', 'spoiler_tag', 'review_detail'])\n",
    "# FutureWarning: The behavior of DataFrame concatenation with empty or all-NA entries is deprecated. In a future version, this will no longer exclude empty or all-NA columns when determining the result dtypes. To retain the old behavior, exclude the relevant entries before the concat operation.\n",
    "\n",
    "df = df[['review_id', 'reviewer', 'movie', 'rating', 'review_summary', 'review_date', 'spoiler_tag', 'review_detail']]\n",
    "print(\"Collecting and Reandig the Data\")\n",
    "for file in files[1:]:\n",
    "    df_new = pd.read_json(\"Assets/sample.json\")\n",
    "    df_new = df_new[['review_id', 'reviewer', 'movie', 'rating', 'review_summary', 'review_date', 'spoiler_tag', 'review_detail']]\n",
    "    df = pd.concat([df,df_new])\n",
    "    del df_new\n",
    "del files"
   ]
  },
  {
   "cell_type": "code",
   "execution_count": 15,
   "id": "581996a9-aeba-4f3e-b82c-f1166b2ef439",
   "metadata": {},
   "outputs": [
    {
     "name": "stdout",
     "output_type": "stream",
     "text": [
      "(700000, 8)\n"
     ]
    }
   ],
   "source": [
    "print(df.shape)"
   ]
  },
  {
   "cell_type": "code",
   "execution_count": 18,
   "id": "5485c17f-f93e-4fdc-998d-5b57963f3954",
   "metadata": {},
   "outputs": [
    {
     "name": "stdout",
     "output_type": "stream",
     "text": [
      "Index(['review_id', 'reviewer', 'movie', 'rating', 'review_summary',\n",
      "       'review_date', 'spoiler_tag', 'review_detail'],\n",
      "      dtype='object')\n",
      "review_id          object\n",
      "reviewer           object\n",
      "movie              object\n",
      "rating            float64\n",
      "review_summary     object\n",
      "review_date        object\n",
      "spoiler_tag         int64\n",
      "review_detail      object\n",
      "dtype: object\n"
     ]
    }
   ],
   "source": [
    "print(df.columns)\n",
    "print(df.dtypes)"
   ]
  },
  {
   "cell_type": "code",
   "execution_count": 23,
   "id": "2ea7c423-a536-4c6d-b711-35f8beffd762",
   "metadata": {},
   "outputs": [
    {
     "name": "stdout",
     "output_type": "stream",
     "text": [
      "(99998, 8)\n",
      "review_id          object\n",
      "reviewer           object\n",
      "movie              object\n",
      "rating            float32\n",
      "review_summary     object\n",
      "review_date        object\n",
      "spoiler_tag         int32\n",
      "review_detail      object\n",
      "dtype: object\n"
     ]
    }
   ],
   "source": [
    "df = df.drop_duplicates()\n",
    "df.rating = df.rating.astype(\"float32\")\n",
    "df.spoiler_tag = df.spoiler_tag.astype(\"int32\")\n",
    "\n",
    "print(df.shape)\n",
    "print(df.dtypes)"
   ]
  },
  {
   "cell_type": "code",
   "execution_count": 25,
   "id": "1f2ad7db-b3e9-4139-934a-ee35b8dcfc3a",
   "metadata": {},
   "outputs": [
    {
     "name": "stdout",
     "output_type": "stream",
     "text": [
      "10.0\n"
     ]
    }
   ],
   "source": [
    "# Maximum rating recorded\n",
    "print(df.rating.max())"
   ]
  },
  {
   "cell_type": "code",
   "execution_count": 28,
   "id": "0124c5da-1c41-416c-88d7-ee9937f17e89",
   "metadata": {},
   "outputs": [
    {
     "name": "stdout",
     "output_type": "stream",
     "text": [
      "                                            movie  \\\n",
      "47808                                    $ (1971)   \n",
      "86909      'Ctyri vrazdy stací, drahousku' (1971)   \n",
      "60049      'Halloween' Unmasked 2000 (1999 Video)   \n",
      "35632   'Masked & Anonymous' Exposed (2003 Video)   \n",
      "95420  'N Sync: PopOdyssey Live (2002 TV Special)   \n",
      "\n",
      "                                          review_summary  rating  \n",
      "47808  Clever intelligent plot; well acted; A classic...    10.0  \n",
      "86909           One of the best Czech comedies ever made    10.0  \n",
      "60049                                 Excellent feature!    10.0  \n",
      "35632                                      awesome film!    10.0  \n",
      "95420                                          Dirty POP    10.0  \n"
     ]
    }
   ],
   "source": [
    "# Top 5 movies based on reviews in ascending order by name\n",
    "top_movies = df[[\"movie\",\"review_summary\",\"rating\"]][df.rating==df.rating.max()]\n",
    "top_movies = top_movies.sort_values(by=\"movie\", ascending=True)\n",
    "print(top_movies.head(5))"
   ]
  },
  {
   "cell_type": "code",
   "execution_count": 29,
   "id": "d5161e84-bae0-4bde-b667-69e5c3aa054b",
   "metadata": {},
   "outputs": [
    {
     "name": "stdout",
     "output_type": "stream",
     "text": [
      "1.0\n"
     ]
    }
   ],
   "source": [
    "# Lowest rating recorded\n",
    "print(df.rating.min())"
   ]
  },
  {
   "cell_type": "code",
   "execution_count": 30,
   "id": "a23e5e58-42e0-4b23-9ef2-e036da224505",
   "metadata": {},
   "outputs": [
    {
     "name": "stdout",
     "output_type": "stream",
     "text": [
      "                                                   movie  \\\n",
      "52313                                       'Doc' (1971)   \n",
      "18527  'Shitsurakuen': jôbafuku onna harakiri (1990 V...   \n",
      "51175                           ...en fin, el mar (2004)   \n",
      "81                                           10.5 (2004)   \n",
      "37193                                        10.5 (2004)   \n",
      "\n",
      "                                          review_summary  rating  \n",
      "52313                                     just plain bad     1.0  \n",
      "18527                                            Horror?     1.0  \n",
      "51175                                     Terrible Movie     1.0  \n",
      "81     This movie is so bad in so many ways, I can't ...     1.0  \n",
      "37193  For the laugh, it's worth watching and then re...     1.0  \n"
     ]
    }
   ],
   "source": [
    "# Most flop 5 movies based on reviews in ascending order by name\n",
    "top_movies = df[[\"movie\",\"review_summary\",\"rating\"]][df.rating==df.rating.min()]\n",
    "top_movies = top_movies.sort_values(by=\"movie\", ascending=True)\n",
    "print(top_movies.head(5))"
   ]
  },
  {
   "cell_type": "code",
   "execution_count": 31,
   "id": "7a3bb20d-23a2-48c2-b637-81bac3ee331b",
   "metadata": {},
   "outputs": [
    {
     "name": "stdout",
     "output_type": "stream",
     "text": [
      "6.997634\n"
     ]
    }
   ],
   "source": [
    "# Avrage rating recorded\n",
    "print(df.rating.mean())"
   ]
  },
  {
   "cell_type": "code",
   "execution_count": 32,
   "id": "1302fe18-0e24-45ef-af6d-e5f964406404",
   "metadata": {},
   "outputs": [
    {
     "name": "stdout",
     "output_type": "stream",
     "text": [
      "                                           movie  \\\n",
      "45284                                   $ (1971)   \n",
      "7672                                  'D' (2005)   \n",
      "49191    'Hellboy': The Seeds of Creation (2004)   \n",
      "39646                  'Til There Was You (1997)   \n",
      "50499  (T)Raumschiff Surprise - Periode 1 (2004)   \n",
      "\n",
      "                                          review_summary  rating  \n",
      "45284             Ah, those wonderful German/Swiss Banks     7.0  \n",
      "7672   Not as good as the rest but well worth watchin...     7.0  \n",
      "49191                         wow, that thing is massive     7.0  \n",
      "39646                 Simple, Complicated, Shallow, Deep     7.0  \n",
      "50499              A Nutshell Review: Dreamship Surprise     7.0  \n"
     ]
    }
   ],
   "source": [
    "# Avrage rated 5 movies based on reviews in ascending order by name\n",
    "top_movies = df[[\"movie\",\"review_summary\",\"rating\"]][df.rating==round(df.rating.mean())]\n",
    "top_movies = top_movies.sort_values(by=\"movie\", ascending=True)\n",
    "print(top_movies.head(5))"
   ]
  },
  {
   "cell_type": "code",
   "execution_count": null,
   "id": "8638ec1f-ef72-4c8a-b34b-a738940438b0",
   "metadata": {},
   "outputs": [],
   "source": []
  }
 ],
 "metadata": {
  "kernelspec": {
   "display_name": "Python 3 (ipykernel)",
   "language": "python",
   "name": "python3"
  },
  "language_info": {
   "codemirror_mode": {
    "name": "ipython",
    "version": 3
   },
   "file_extension": ".py",
   "mimetype": "text/x-python",
   "name": "python",
   "nbconvert_exporter": "python",
   "pygments_lexer": "ipython3",
   "version": "3.12.7"
  }
 },
 "nbformat": 4,
 "nbformat_minor": 5
}
